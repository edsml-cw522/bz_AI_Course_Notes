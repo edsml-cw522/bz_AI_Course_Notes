{
 "cells": [
  {
   "cell_type": "markdown",
   "id": "3aa890d7",
   "metadata": {
    "slideshow": {
     "slide_type": "-"
    }
   },
   "source": [
    "### 1. python 是强类型的动态脚步语言\n",
    "\n",
    "如下图描述了常见的编程语言的静动态以及强弱的程度：\n",
    "![常见的编程语言的静动态和强弱的程度](./img/常见编程语言的动态与强弱性.png)\n",
    "\n",
    "\n",
    "- 强类型:  不允许不同类型相加. 例如: 整型+字符串会报类型错误.\n",
    "<br>\n",
    "\n",
    "- 动态: 可以不使用数据类型声明, 且确定一个变量的类型是在给它赋值的时候来确定一个变量的类型.\n",
    "<br>\n",
    "\n",
    "- 脚本语言:  一般是指解释性语言, 运行代码只需要一个解释器 (一边解释代码, 一边执行), 不需要编译器 (需要先提前编译之后, 才能运行, 例如: Java)."
   ]
  },
  {
   "cell_type": "markdown",
   "id": "ce17fa7d",
   "metadata": {},
   "source": [
    "### 2. python中一切皆是对象\n",
    "\n",
    "1. 每个对象由: 标识(identity), 类型 (type), value(值)组成. **对象的本质就是: 一个内存块，拥有 特定的值，支持特定类型的相关操作。**\n",
    "\n",
    "- 标识用于唯一标识对象, 通常对应于对象在计算机内存中的地址。使用内置函数id(obj)可返回对象obj的标识.\n",
    "<br>\n",
    "\n",
    "- 类型用于表示对象存储的“数据”的类型. 类型可以限制对象的取值范围以及可执行的操作. 可以使用type(obj)获得对象的所属类型。\n",
    "<br>\n",
    "\n",
    "- 值表示对象所存储的数据的信息。使用print(obj)可以直接打印出值。\n"
   ]
  },
  {
   "cell_type": "code",
   "execution_count": 9,
   "id": "5774b04d",
   "metadata": {
    "raw_mimetype": "text/x-python"
   },
   "outputs": [
    {
     "name": "stdout",
     "output_type": "stream",
     "text": [
      "标识 = 4397731024 \n",
      "类型 = <class 'int'>\n",
      "值 = 12345\n"
     ]
    }
   ],
   "source": [
    "uid = 12345\n",
    "print(f\"标识 = {id(uid)} \")\n",
    "print(f\"类型 = {type(uid)}\")\n",
    "print(f\"值 = {uid}\")"
   ]
  },
  {
   "cell_type": "markdown",
   "id": "8ce737c7",
   "metadata": {},
   "source": [
    "2. 在python中, 变量是对象的引用。因为变量存储的就是对象的地址，变量通过地址引用“对象”\n",
    "\n",
    "- 变量位于: 栈内存\n",
    "- 对象位于: 堆内存\n",
    "\n",
    "下图是在python中的对象与变量的存储方式:\n",
    "    ![python中的对象与变量的存储方式](./img/python对象的存储方式.png)\n",
    "\n",
    "<br>\n",
    "\n",
    "3. 在Python语言中，声明变量的同时需要为其赋值，毕竟不代表任何 值的变量毫无意义，Python中也不允许有这样的变量。\n",
    "\n",
    "```python\n",
    "my_name # 声明变量my_name没有赋值\n",
    "print(my_name)# 输出my_name报异常\n",
    "\n",
    "```\n",
    "\n",
    "<br>\n",
    "4. 看下面的实例:"
   ]
  },
  {
   "cell_type": "code",
   "execution_count": 16,
   "id": "19eb5f41",
   "metadata": {},
   "outputs": [
    {
     "name": "stdout",
     "output_type": "stream",
     "text": [
      "True\n",
      "True\n",
      "True\n"
     ]
    }
   ],
   "source": [
    "a = \"python\"\n",
    "b = a\n",
    "\n",
    "print(b is a)\n",
    "print(a is b)\n",
    "\n",
    "print(id(a) == id(b))"
   ]
  },
  {
   "cell_type": "code",
   "execution_count": null,
   "id": "f4f6bcff",
   "metadata": {},
   "outputs": [],
   "source": []
  },
  {
   "cell_type": "code",
   "execution_count": null,
   "id": "7038851f",
   "metadata": {},
   "outputs": [],
   "source": []
  },
  {
   "cell_type": "code",
   "execution_count": 13,
   "id": "ae7d180f",
   "metadata": {},
   "outputs": [
    {
     "name": "stdout",
     "output_type": "stream",
     "text": [
      "3.14\n"
     ]
    }
   ],
   "source": [
    "print(f\"{3.14459:.2f}\")"
   ]
  }
 ],
 "metadata": {
  "celltoolbar": "原始单元格格式",
  "kernelspec": {
   "display_name": "Python 3 (ipykernel)",
   "language": "python",
   "name": "python3"
  },
  "language_info": {
   "codemirror_mode": {
    "name": "ipython",
    "version": 3
   },
   "file_extension": ".py",
   "mimetype": "text/x-python",
   "name": "python",
   "nbconvert_exporter": "python",
   "pygments_lexer": "ipython3",
   "version": "3.9.18"
  }
 },
 "nbformat": 4,
 "nbformat_minor": 5
}
