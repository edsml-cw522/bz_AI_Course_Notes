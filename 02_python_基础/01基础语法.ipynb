{
 "cells": [
  {
   "cell_type": "markdown",
   "id": "3aa890d7",
   "metadata": {
    "slideshow": {
     "slide_type": "-"
    }
   },
   "source": [
    "### 1. python 是强类型的动态脚步语言\n",
    "\n",
    "如下图描述了常见的编程语言的静动态以及强弱的程度：\n",
    "![常见的编程语言的静动态和强弱的程度](./img/常见编程语言的动态与强弱性.png)\n",
    "\n",
    "\n",
    "- 强类型:  不允许不同类型相加. 例如: 整型+字符串会报类型错误.\n",
    "<br>\n",
    "\n",
    "- 动态: 可以不使用数据类型声明, 且确定一个变量的类型是在给它赋值的时候来确定一个变量的类型.\n",
    "<br>\n",
    "\n",
    "- 脚本语言:  一般是指解释性语言, 运行代码只需要一个解释器 (一边解释代码, 一边执行), 不需要编译器 (需要先提前编译之后, 才能运行, 例如: Java)."
   ]
  },
  {
   "cell_type": "markdown",
   "id": "ce17fa7d",
   "metadata": {},
   "source": [
    "### 2. python中一切皆是对象\n",
    "\n",
    "1. 每个对象由: 标识(identity), 类型 (type), value(值)组成. **对象的本质就是: 一个内存块，拥有 特定的值，支持特定类型的相关操作。**\n",
    "\n",
    "- 标识用于唯一标识对象, 通常对应于对象在计算机内存中的地址。使用内置函数id(obj)可返回对象obj的标识.\n",
    "<br>\n",
    "\n",
    "- 类型用于表示对象存储的“数据”的类型. 类型可以限制对象的取值范围以及可执行的操作. 可以使用type(obj)获得对象的所属类型。\n",
    "<br>\n",
    "\n",
    "- 值表示对象所存储的数据的信息。使用print(obj)可以直接打印出值。"
   ]
  },
  {
   "cell_type": "code",
   "execution_count": 1,
   "id": "5774b04d",
   "metadata": {
    "raw_mimetype": "text/x-python"
   },
   "outputs": [
    {
     "name": "stdout",
     "output_type": "stream",
     "text": [
      "标识 = 4388479024 \n",
      "类型 = <class 'int'>\n",
      "值 = 12345\n"
     ]
    }
   ],
   "source": [
    "uid = 12345\n",
    "print(f\"标识 = {id(uid)} \")\n",
    "print(f\"类型 = {type(uid)}\")\n",
    "print(f\"值 = {uid}\")"
   ]
  },
  {
   "cell_type": "markdown",
   "id": "8ce737c7",
   "metadata": {},
   "source": [
    "2. 在python中, 变量是对象的引用。因为变量存储的就是对象的地址，变量通过地址引用“对象”\n",
    "\n",
    "- 变量位于: 栈内存\n",
    "- 对象位于: 堆内存\n",
    "\n",
    "下图是在python中的对象与变量的存储方式:\n",
    "    ![python中的对象与变量的存储方式](./img/python对象的存储方式.png)\n",
    "\n",
    "<br>\n",
    "\n",
    "3. 在Python语言中，声明变量的同时需要为其赋值，毕竟不代表任何 值的变量毫无意义，Python中也不允许有这样的变量。\n",
    "\n",
    "```python\n",
    "my_name # 声明变量my_name没有赋值\n",
    "print(my_name)# 输出my_name报异常\n",
    "\n",
    "```\n",
    "\n",
    "<br>\n",
    "4. 看下面的实例:"
   ]
  },
  {
   "cell_type": "code",
   "execution_count": 2,
   "id": "19eb5f41",
   "metadata": {},
   "outputs": [
    {
     "name": "stdout",
     "output_type": "stream",
     "text": [
      "True\n",
      "True\n",
      "True\n"
     ]
    }
   ],
   "source": [
    "a = \"python\"\n",
    "b = a\n",
    "\n",
    "print(b is a)\n",
    "print(a is b)\n",
    "\n",
    "print(id(a) == id(b))"
   ]
  },
  {
   "cell_type": "markdown",
   "id": "66400a8b",
   "metadata": {},
   "source": [
    "### 3. 控制, 循环, break, continue\n",
    "\n",
    "略\n",
    "\n",
    "- 这里补充一个python格式化打印的用法：\n",
    "\n",
    "```python\n",
    "print(f\"{3.14459:.2f}\")\n",
    "```"
   ]
  },
  {
   "cell_type": "code",
   "execution_count": 13,
   "id": "7038851f",
   "metadata": {},
   "outputs": [
    {
     "name": "stdout",
     "output_type": "stream",
     "text": [
      "1 * 1 = 1\t\n",
      "1 * 2 = 2\t2 * 2 = 4\t\n",
      "1 * 3 = 3\t2 * 3 = 6\t3 * 3 = 9\t\n",
      "1 * 4 = 4\t2 * 4 = 8\t3 * 4 = 12\t4 * 4 = 16\t\n",
      "1 * 5 = 5\t2 * 5 = 10\t3 * 5 = 15\t4 * 5 = 20\t5 * 5 = 25\t\n",
      "1 * 6 = 6\t2 * 6 = 12\t3 * 6 = 18\t4 * 6 = 24\t5 * 6 = 30\t6 * 6 = 36\t\n",
      "1 * 7 = 7\t2 * 7 = 14\t3 * 7 = 21\t4 * 7 = 28\t5 * 7 = 35\t6 * 7 = 42\t7 * 7 = 49\t\n",
      "1 * 8 = 8\t2 * 8 = 16\t3 * 8 = 24\t4 * 8 = 32\t5 * 8 = 40\t6 * 8 = 48\t7 * 8 = 56\t8 * 8 = 64\t\n",
      "1 * 9 = 9\t2 * 9 = 18\t3 * 9 = 27\t4 * 9 = 36\t5 * 9 = 45\t6 * 9 = 54\t7 * 9 = 63\t8 * 9 = 72\t9 * 9 = 81\t\n"
     ]
    }
   ],
   "source": [
    "# 九九乘法表打印输出, 两种循环\n",
    "\n",
    "# 方式一: while 循环\n",
    "i = 1\n",
    "while i <= 9:\n",
    "    j = 1\n",
    "    while j <= i:\n",
    "        print(f\"{j} * {i} = {i*j}\", end = \"\\t\")\n",
    "        j += 1\n",
    "    print()\n",
    "    i += 1"
   ]
  },
  {
   "cell_type": "code",
   "execution_count": 17,
   "id": "6f938cb2",
   "metadata": {},
   "outputs": [
    {
     "name": "stdout",
     "output_type": "stream",
     "text": [
      "1 * 1 = 1\t\n",
      "1 * 2 = 2\t2 * 2 = 4\t\n",
      "1 * 3 = 3\t2 * 3 = 6\t3 * 3 = 9\t\n",
      "1 * 4 = 4\t2 * 4 = 8\t3 * 4 = 12\t4 * 4 = 16\t\n",
      "1 * 5 = 5\t2 * 5 = 10\t3 * 5 = 15\t4 * 5 = 20\t5 * 5 = 25\t\n",
      "1 * 6 = 6\t2 * 6 = 12\t3 * 6 = 18\t4 * 6 = 24\t5 * 6 = 30\t6 * 6 = 36\t\n",
      "1 * 7 = 7\t2 * 7 = 14\t3 * 7 = 21\t4 * 7 = 28\t5 * 7 = 35\t6 * 7 = 42\t7 * 7 = 49\t\n",
      "1 * 8 = 8\t2 * 8 = 16\t3 * 8 = 24\t4 * 8 = 32\t5 * 8 = 40\t6 * 8 = 48\t7 * 8 = 56\t8 * 8 = 64\t\n",
      "1 * 9 = 9\t2 * 9 = 18\t3 * 9 = 27\t4 * 9 = 36\t5 * 9 = 45\t6 * 9 = 54\t7 * 9 = 63\t8 * 9 = 72\t9 * 9 = 81\t\n"
     ]
    }
   ],
   "source": [
    "# 方式二: for 循环\n",
    "\n",
    "for i in range(1, 10):\n",
    "    for j in range(1, i+1):\n",
    "        print(f\"{j} * {i} = {i*j}\", end = \"\\t\")\n",
    "    print()"
   ]
  },
  {
   "cell_type": "markdown",
   "id": "5f95dd15",
   "metadata": {},
   "source": [
    "### 4. 切片操作\n",
    "\n",
    "- 实例1: \n",
    "```python\n",
    "pystr='Python'\n",
    "pystr[:] # 'Python'\n",
    "pystr[2:] # 'thon'\n",
    "pystr[:5] # 'Pytho'\n",
    "pystr[1:5] # 'ytho'\n",
    "pystr[1:5:2] # 'yh'\n",
    "\n",
    "pystr[:-3] # 'Pyt'\n",
    "pystr[-5:-3] # 'yt'\n",
    "pystr[::-1] # 'nohtyp'\n",
    "pystr[::-2] # 'nhy'\n",
    "pystr[1:-3] # 'yt'\n",
    "\n",
    "```\n",
    "\n",
    "- 实例2: 机器学习中切片可用于分割数据集为训练集和测试集，假如总共有 10000条样本数据\n",
    "```python\n",
    "\n",
    "TrainSet=Data[:8000]\n",
    "TestSet=Data[8000:]\n",
    "batch_size=100\n",
    "num_batches=len(TrainSet)/batch_size\n",
    "for epoch in epoches:\n",
    "    for index in range(num_batches):\n",
    "        batch = TrainSet[batch_size*index:\n",
    "(batch_size+batch_size*index)]\n",
    "# 接下来应用这个批次的数据去训练模型\n",
    "\n",
    "```"
   ]
  },
  {
   "cell_type": "markdown",
   "id": "e992e372",
   "metadata": {},
   "source": [
    "### 5. Python 常见数据类型\n",
    "\n",
    "\n",
    "下图是常见的数据类型：\n",
    "![python常见的数据类型](./img/python的常用数据类型.png)\n",
    "\n",
    "\n",
    "可变类型与不可变类型：\n",
    "![python的可变与不可变数据类型](./img/python的可变与不可变数据类型.png)\n",
    "\n",
    "\n",
    "有序集合与无序集合：\n",
    "![python的有序集合与无序集合](./img/python的有序集合与无序集合.png)\n",
    "\n",
    "\n",
    "```python\n",
    "eval(str) #用来计算在字符串中的有效python表达式，并返回一个对象\n",
    "\n",
    "\n",
    "eval('5+10') #会返回15\n",
    "a=10\n",
    "b=20\n",
    "eval('a+b') #会返回30\n",
    "\n",
    "chr(x) #将一个整数转换为一个字符\n",
    "ord(x) #将一个字符转换为它的整数值\n",
    "```\n",
    "\n",
    "\n",
    "python 中使用科学计数来表达数字\n",
    "例如：\n",
    "$$ 3.2e-12 = 3.2 \\times 10^{-12} $$\n",
    "$$ 3.2e+12 = 3.2 \\times 10^{12} $$"
   ]
  }
 ],
 "metadata": {
  "celltoolbar": "原始单元格格式",
  "kernelspec": {
   "display_name": "Python 3 (ipykernel)",
   "language": "python",
   "name": "python3"
  },
  "language_info": {
   "codemirror_mode": {
    "name": "ipython",
    "version": 3
   },
   "file_extension": ".py",
   "mimetype": "text/x-python",
   "name": "python",
   "nbconvert_exporter": "python",
   "pygments_lexer": "ipython3",
   "version": "3.9.18"
  }
 },
 "nbformat": 4,
 "nbformat_minor": 5
}
